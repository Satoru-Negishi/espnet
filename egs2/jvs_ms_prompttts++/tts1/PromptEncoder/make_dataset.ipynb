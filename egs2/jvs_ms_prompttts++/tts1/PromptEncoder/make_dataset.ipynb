{
 "cells": [
  {
   "cell_type": "code",
   "execution_count": 44,
   "metadata": {},
   "outputs": [],
   "source": [
    "import pandas as pd\n",
    "import numpy as np\n",
    "from pprint import pprint"
   ]
  },
  {
   "cell_type": "code",
   "execution_count": 2,
   "metadata": {},
   "outputs": [],
   "source": [
    "nl_path = './data/id_and_NL.csv'\n",
    "emb_path = './data/writer_spk.csv'"
   ]
  },
  {
   "cell_type": "code",
   "execution_count": 60,
   "metadata": {},
   "outputs": [],
   "source": [
    "nl_df = pd.read_csv(nl_path,header=None,names=['id','NL'])\n",
    "emb_df = pd.read_csv(emb_path,header=None,names=['spk','emb'])"
   ]
  },
  {
   "cell_type": "code",
   "execution_count": 67,
   "metadata": {},
   "outputs": [],
   "source": [
    "embs = emb_df['emb'].values.tolist()\n",
    "for emb,i in zip(embs, range(len(embs))):\n",
    "    emb = emb.replace('\\n','').replace('[','').replace(']','').split()\n",
    "    emb = [float(x) for x in emb]\n",
    "    embs[i] = emb"
   ]
  },
  {
   "cell_type": "code",
   "execution_count": 75,
   "metadata": {},
   "outputs": [],
   "source": [
    "spks = emb_df['spk'].values.tolist()\n",
    "for spk,i in zip(spks, range(len(spks))):\n",
    "    spk = int(spk.replace('jvs',''))\n",
    "    spks[i] = spk"
   ]
  },
  {
   "cell_type": "code",
   "execution_count": 79,
   "metadata": {},
   "outputs": [],
   "source": [
    "new_emb_df  = pd.DataFrame({'id':spks,'emb':embs})"
   ]
  },
  {
   "cell_type": "code",
   "execution_count": 80,
   "metadata": {},
   "outputs": [],
   "source": [
    "merged_df = pd.merge(nl_df, new_emb_df, on='id')"
   ]
  },
  {
   "cell_type": "code",
   "execution_count": 81,
   "metadata": {},
   "outputs": [
    {
     "data": {
      "text/html": [
       "<div>\n",
       "<style scoped>\n",
       "    .dataframe tbody tr th:only-of-type {\n",
       "        vertical-align: middle;\n",
       "    }\n",
       "\n",
       "    .dataframe tbody tr th {\n",
       "        vertical-align: top;\n",
       "    }\n",
       "\n",
       "    .dataframe thead th {\n",
       "        text-align: right;\n",
       "    }\n",
       "</style>\n",
       "<table border=\"1\" class=\"dataframe\">\n",
       "  <thead>\n",
       "    <tr style=\"text-align: right;\">\n",
       "      <th></th>\n",
       "      <th>id</th>\n",
       "      <th>NL</th>\n",
       "      <th>emb</th>\n",
       "    </tr>\n",
       "  </thead>\n",
       "  <tbody>\n",
       "    <tr>\n",
       "      <th>0</th>\n",
       "      <td>10</td>\n",
       "      <td>おとなしく幼さを感じる女子中学生</td>\n",
       "      <td>[0.103718491, -0.00934963916, -0.106388815, -0...</td>\n",
       "    </tr>\n",
       "    <tr>\n",
       "      <th>1</th>\n",
       "      <td>11</td>\n",
       "      <td>中性的な声の青年</td>\n",
       "      <td>[0.10368413, -0.00943414, -0.10669071, -0.0295...</td>\n",
       "    </tr>\n",
       "    <tr>\n",
       "      <th>2</th>\n",
       "      <td>14</td>\n",
       "      <td>少年ぽさを感じる女の子</td>\n",
       "      <td>[0.103654917, -0.00974015798, -0.105651211, -0...</td>\n",
       "    </tr>\n",
       "    <tr>\n",
       "      <th>3</th>\n",
       "      <td>15</td>\n",
       "      <td>20歳程度のお姉さん</td>\n",
       "      <td>[0.10427354, -0.00957899239, -0.105432502, -0....</td>\n",
       "    </tr>\n",
       "    <tr>\n",
       "      <th>4</th>\n",
       "      <td>18</td>\n",
       "      <td>ゆっくり間を開けて話す女性</td>\n",
       "      <td>[0.10311142, -0.00847343, -0.10722332, -0.0286...</td>\n",
       "    </tr>\n",
       "    <tr>\n",
       "      <th>...</th>\n",
       "      <td>...</td>\n",
       "      <td>...</td>\n",
       "      <td>...</td>\n",
       "    </tr>\n",
       "    <tr>\n",
       "      <th>74</th>\n",
       "      <td>92</td>\n",
       "      <td>早口で話すかすれた声のおばさん</td>\n",
       "      <td>[0.103464354, -0.00918067495, -0.10675806, -0....</td>\n",
       "    </tr>\n",
       "    <tr>\n",
       "      <th>75</th>\n",
       "      <td>95</td>\n",
       "      <td>20～30歳ぐらいの女性</td>\n",
       "      <td>[0.103017924, -0.00849153176, -0.107310012, -0...</td>\n",
       "    </tr>\n",
       "    <tr>\n",
       "      <th>76</th>\n",
       "      <td>96</td>\n",
       "      <td>高く細い声の女の人</td>\n",
       "      <td>[0.103096794, -0.00915894711, -0.107083128, -0...</td>\n",
       "    </tr>\n",
       "    <tr>\n",
       "      <th>77</th>\n",
       "      <td>97</td>\n",
       "      <td>ふわふわした高い声の男性</td>\n",
       "      <td>[0.103617905, -0.00870063514, -0.106498085, -0...</td>\n",
       "    </tr>\n",
       "    <tr>\n",
       "      <th>78</th>\n",
       "      <td>100</td>\n",
       "      <td>少し低い声の社会人男性</td>\n",
       "      <td>[0.102649425, -0.00923666128, -0.107774851, -0...</td>\n",
       "    </tr>\n",
       "  </tbody>\n",
       "</table>\n",
       "<p>79 rows × 3 columns</p>\n",
       "</div>"
      ],
      "text/plain": [
       "     id                NL                                                emb\n",
       "0    10  おとなしく幼さを感じる女子中学生  [0.103718491, -0.00934963916, -0.106388815, -0...\n",
       "1    11          中性的な声の青年  [0.10368413, -0.00943414, -0.10669071, -0.0295...\n",
       "2    14       少年ぽさを感じる女の子  [0.103654917, -0.00974015798, -0.105651211, -0...\n",
       "3    15        20歳程度のお姉さん  [0.10427354, -0.00957899239, -0.105432502, -0....\n",
       "4    18     ゆっくり間を開けて話す女性  [0.10311142, -0.00847343, -0.10722332, -0.0286...\n",
       "..  ...               ...                                                ...\n",
       "74   92   早口で話すかすれた声のおばさん  [0.103464354, -0.00918067495, -0.10675806, -0....\n",
       "75   95      20～30歳ぐらいの女性  [0.103017924, -0.00849153176, -0.107310012, -0...\n",
       "76   96         高く細い声の女の人  [0.103096794, -0.00915894711, -0.107083128, -0...\n",
       "77   97      ふわふわした高い声の男性  [0.103617905, -0.00870063514, -0.106498085, -0...\n",
       "78  100       少し低い声の社会人男性  [0.102649425, -0.00923666128, -0.107774851, -0...\n",
       "\n",
       "[79 rows x 3 columns]"
      ]
     },
     "execution_count": 81,
     "metadata": {},
     "output_type": "execute_result"
    }
   ],
   "source": [
    "merged_df"
   ]
  },
  {
   "cell_type": "code",
   "execution_count": 82,
   "metadata": {},
   "outputs": [],
   "source": [
    "merged_df.to_csv('./data/id_and_NL_emb.csv',index=False)"
   ]
  }
 ],
 "metadata": {
  "kernelspec": {
   "display_name": "Python 3",
   "language": "python",
   "name": "python3"
  },
  "language_info": {
   "codemirror_mode": {
    "name": "ipython",
    "version": 3
   },
   "file_extension": ".py",
   "mimetype": "text/x-python",
   "name": "python",
   "nbconvert_exporter": "python",
   "pygments_lexer": "ipython3",
   "version": "3.10.10"
  }
 },
 "nbformat": 4,
 "nbformat_minor": 2
}

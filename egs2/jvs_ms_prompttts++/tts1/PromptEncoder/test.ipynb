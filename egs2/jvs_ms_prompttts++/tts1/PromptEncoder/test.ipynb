{
 "cells": [
  {
   "cell_type": "code",
   "execution_count": 1,
   "metadata": {},
   "outputs": [
    {
     "name": "stderr",
     "output_type": "stream",
     "text": [
      "/mnt/data/users/snegishi/M2/espnet/tools/venv/lib/python3.10/site-packages/tqdm/auto.py:21: TqdmWarning: IProgress not found. Please update jupyter and ipywidgets. See https://ipywidgets.readthedocs.io/en/stable/user_install.html\n",
      "  from .autonotebook import tqdm as notebook_tqdm\n"
     ]
    }
   ],
   "source": [
    "import pandas as pd\n",
    "import numpy as np\n",
    "import os\n",
    "import torch\n",
    "from torch.utils.data import Dataset, DataLoader, RandomSampler, SequentialSampler\n",
    "from sklearn.model_selection import train_test_split\n",
    "from sklearn import metrics\n",
    "import transformers\n",
    "from transformers import BertTokenizer, BertModel, BertConfig\n",
    "from transformers.modeling_outputs import ModelOutput\n",
    "from transformers.configuration_utils import PretrainedConfig\n",
    "from transformers import TrainingArguments\n",
    "from transformers import Trainer\n",
    "from transformers import EarlyStoppingCallback\n",
    "from transformers import AutoModel, AutoTokenizer\n",
    "from torch.utils.data import DataLoader\n",
    "from tqdm import tqdm\n",
    "import sys\n",
    "import datetime\n",
    "\n",
    "\"\"\"\n",
    "参考サイト\n",
    "\n",
    "BERTファインチューニング：\n",
    "Transformer Trainerクラス：https://qiita.com/m__k/items/2c4e476d7ac81a3a44af\n",
    "\n",
    "\"\"\"\n",
    "\n",
    "d_today_utc = datetime.datetime.utcnow().date()\n",
    "\n",
    "input_data = './data/id_and_NL_emb.csv'\n",
    "model_output = f'./output/model_{d_today_utc}'\n",
    "config_output = f'./output/model_{d_today_utc}'\n",
    "\n",
    "#----------------------------------------------------------------------------------------------------\n",
    "from torch import cuda\n",
    "device = 'cuda' if cuda.is_available() else 'cpu'"
   ]
  },
  {
   "cell_type": "code",
   "execution_count": 9,
   "metadata": {},
   "outputs": [],
   "source": [
    "#データ準備-------------------------------------------------------------------------------------------\n",
    "df = pd.read_csv(input_data,header=0)\n",
    "# df['list'] = df[df.columns[1:]].values.tolist()\n",
    "# df['comment_text'] = df[df.columns[:1]]\n",
    "# new_df = df[['comment_text', 'list']].copy()\n",
    "# vector_size = len(new_df['list'][0])\n"
   ]
  },
  {
   "cell_type": "code",
   "execution_count": 14,
   "metadata": {},
   "outputs": [
    {
     "data": {
      "text/plain": [
       "str"
      ]
     },
     "execution_count": 14,
     "metadata": {},
     "output_type": "execute_result"
    }
   ],
   "source": [
    "x = df['emb'].tolist()\n",
    "type(x[0])"
   ]
  }
 ],
 "metadata": {
  "kernelspec": {
   "display_name": "Python 3",
   "language": "python",
   "name": "python3"
  },
  "language_info": {
   "codemirror_mode": {
    "name": "ipython",
    "version": 3
   },
   "file_extension": ".py",
   "mimetype": "text/x-python",
   "name": "python",
   "nbconvert_exporter": "python",
   "pygments_lexer": "ipython3",
   "version": "3.10.10"
  }
 },
 "nbformat": 4,
 "nbformat_minor": 2
}
